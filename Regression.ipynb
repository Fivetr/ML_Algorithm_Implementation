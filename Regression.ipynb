{
 "cells": [
  {
   "cell_type": "markdown",
   "id": "global-region",
   "metadata": {},
   "source": [
    "# Linear Regression"
   ]
  },
  {
   "cell_type": "markdown",
   "id": "seven-python",
   "metadata": {},
   "source": [
    "### Hypothesis Function\n",
    "\n",
    "$y = h_{\\theta}(x) = w^{T}x + b$"
   ]
  },
  {
   "cell_type": "markdown",
   "id": "toxic-olympus",
   "metadata": {},
   "source": [
    "### Lost Function: MSE\n",
    "\n",
    "$L_{i}(w,b) = \\frac{1}{M}\n",
    "                \\sum\n",
    "                    [(w^{T}x_{i} + b) - y_{i}]^{2}$"
   ]
  },
  {
   "cell_type": "markdown",
   "id": "similar-oxygen",
   "metadata": {},
   "source": [
    "### Gradient\n",
    "\n",
    "$\\frac{\\partial L }{\\partial \\theta}  = \\frac{2}{M} \\sum x_{i}[(w^{T}x_{i} + b) - y_{i}] $\n",
    "\n",
    "$\\frac{\\partial L }{\\partial b}  = \\frac{2}{M} \\sum [(w^{T}x_{i} + b) - y_{i}] $"
   ]
  },
  {
   "cell_type": "markdown",
   "id": "reflected-cathedral",
   "metadata": {},
   "source": [
    "### Implement Linear Regression"
   ]
  },
  {
   "cell_type": "code",
   "execution_count": null,
   "id": "considered-factory",
   "metadata": {},
   "outputs": [],
   "source": [
    "import numpy as np"
   ]
  },
  {
   "cell_type": "code",
   "execution_count": 2,
   "id": "banner-approval",
   "metadata": {},
   "outputs": [],
   "source": [
    "class LinearRegression:\n",
    "\n",
    "    def __init__(self, lr=.001, tolerance=.000002):\n",
    "\n",
    "        self.lr = lr\n",
    "        self.tolerance = tolerance\n",
    "        self.weights = None\n",
    "        self.bias = 0\n",
    "        self.loss_lst = []\n",
    "\n",
    "    def fit(self, X, y):\n",
    "        # x_train --> training features\n",
    "        # y_train --> true labels\n",
    "\n",
    "        # dimension of x_train\n",
    "        m, n = X.shape\n",
    "\n",
    "        # set initial weights and bias to 0\n",
    "        self.weights = np.zeros((n, 1))\n",
    "\n",
    "        # reshape y\n",
    "        y_train = y.reshape(m, 1)\n",
    "\n",
    "        count = 0\n",
    "        loss = 0\n",
    "        # Gradient descent\n",
    "        while True:\n",
    "            count += 1\n",
    "\n",
    "            # predict y\n",
    "            y_predict = np.dot(X, self.weights) + self.bias\n",
    "\n",
    "            # compute loss\n",
    "            temp_loss = loss\n",
    "            loss = 1 / m * np.sum((y_predict - y_train) ** 2)\n",
    "            self.loss_lst.append(loss)\n",
    "\n",
    "            # reduce learning rate if current loss is greater than previous loss\n",
    "            if loss > temp_loss:\n",
    "                self.lr = self.lr / 2\n",
    "            elif abs(loss - temp_loss) < .001:\n",
    "                self.lr = self.lr * 2\n",
    "\n",
    "            # Gradient with respect to weights\n",
    "            dw = 2 / m * np.dot(X.T, y_predict - y_train)\n",
    "\n",
    "            # Gradient with respect to bias\n",
    "            db = 2 / m * np.sum(y_predict - y_train)\n",
    "\n",
    "            prev_weight = self.weights\n",
    "            # Updating the parameters.\n",
    "            self.weights = prev_weight - (self.lr * dw)\n",
    "            self.bias = self.bias - (self.lr * db)\n",
    "\n",
    "            # stopping criteria\n",
    "            # if the l2 distance between current weights and prev_weight is less than tolerance\n",
    "            # stop the loop\n",
    "            es = np.linalg.norm(self.weights - prev_weight)\n",
    "            if es <= self.tolerance:\n",
    "                print(count)\n",
    "                break\n",
    "\n",
    "    def predict(self, X):\n",
    "        # X --> Input.\n",
    "\n",
    "        return np.dot(X, self.weights) + self.bias"
   ]
  }
 ],
 "metadata": {
  "kernelspec": {
   "display_name": "Python 3",
   "language": "python",
   "name": "python3"
  },
  "language_info": {
   "codemirror_mode": {
    "name": "ipython",
    "version": 3
   },
   "file_extension": ".py",
   "mimetype": "text/x-python",
   "name": "python",
   "nbconvert_exporter": "python",
   "pygments_lexer": "ipython3",
   "version": "3.8.5"
  }
 },
 "nbformat": 4,
 "nbformat_minor": 5
}
