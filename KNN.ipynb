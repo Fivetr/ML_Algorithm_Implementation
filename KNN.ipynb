{
 "cells": [
  {
   "cell_type": "markdown",
   "id": "conscious-deposit",
   "metadata": {},
   "source": [
    "# K Nearest Neighbor"
   ]
  },
  {
   "cell_type": "markdown",
   "id": "induced-baltimore",
   "metadata": {},
   "source": [
    "### Implementation "
   ]
  },
  {
   "cell_type": "code",
   "execution_count": 1,
   "id": "located-farming",
   "metadata": {},
   "outputs": [],
   "source": [
    "import numpy as np"
   ]
  },
  {
   "cell_type": "code",
   "execution_count": 5,
   "id": "employed-machinery",
   "metadata": {},
   "outputs": [],
   "source": [
    "class KNN:\n",
    "    \n",
    "    def __init__(self, k):\n",
    "        self.k = k\n",
    "        self.X\n",
    "        self.y\n",
    "    \n",
    "    def fit(self, X_train, y_train):\n",
    "        self.X = X_train\n",
    "        self.y = y_train\n",
    "    \n",
    "    def predict(self, X_test):\n",
    "        pass\n",
    "        "
   ]
  },
  {
   "cell_type": "code",
   "execution_count": null,
   "id": "modular-tracker",
   "metadata": {},
   "outputs": [],
   "source": []
  }
 ],
 "metadata": {
  "kernelspec": {
   "display_name": "Python 3",
   "language": "python",
   "name": "python3"
  },
  "language_info": {
   "codemirror_mode": {
    "name": "ipython",
    "version": 3
   },
   "file_extension": ".py",
   "mimetype": "text/x-python",
   "name": "python",
   "nbconvert_exporter": "python",
   "pygments_lexer": "ipython3",
   "version": "3.8.5"
  }
 },
 "nbformat": 4,
 "nbformat_minor": 5
}
