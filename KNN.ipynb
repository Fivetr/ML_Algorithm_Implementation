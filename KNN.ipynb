{
 "cells": [
  {
   "cell_type": "markdown",
   "id": "conscious-deposit",
   "metadata": {},
   "source": [
    "# K Nearest Neighbor"
   ]
  },
  {
   "cell_type": "markdown",
   "id": "induced-baltimore",
   "metadata": {},
   "source": [
    "### Implementation "
   ]
  },
  {
   "cell_type": "code",
   "execution_count": 12,
   "id": "located-farming",
   "metadata": {},
   "outputs": [],
   "source": [
    "import numpy as np\n",
    "from collections import Counter"
   ]
  },
  {
   "cell_type": "code",
   "execution_count": 21,
   "id": "employed-machinery",
   "metadata": {},
   "outputs": [],
   "source": [
    "class KNearestNeighbor:\n",
    "    \n",
    "    def __init__(self, k):\n",
    "        self.k = k\n",
    "        self.X = None\n",
    "        self.y = None\n",
    "    \n",
    "    def fit(self, X_train, y_train):\n",
    "        self.X = X_train\n",
    "        self.y = y_train\n",
    "    \n",
    "    def predict(self, X_test):\n",
    "        \n",
    "        # k nearest distance for each unseen datap points\n",
    "        k_nearest_distances = []\n",
    "        \n",
    "        # find the k X_train data points that are closest to X_test\n",
    "        for xi_test in X_test:\n",
    "            # stores distance from every x_train to xi_test\n",
    "            distances = []\n",
    "            for xi_train in self.X:\n",
    "                # distances between xi_test and all X_train\n",
    "                l2_distance = np.sqrt(np.sum((xi_test - xi_train)**2))\n",
    "                distances.append(l2_distance)\n",
    "                \n",
    "            # sort the distance from smallest to larger\n",
    "            # find the first k value\n",
    "            # argsort will return the index from the original unsorted list (distance)\n",
    "            k_nearest_distances.append(np.argsort(distances)[:self.k])\n",
    "        \n",
    "        # find the labels of K nearest neighbor\n",
    "        neighbors = []\n",
    "        for x_neighbors in k_nearest_distances:\n",
    "            label = []\n",
    "            for x_train_index in x_neighbors:\n",
    "                label.append(self.y[x_train_index])\n",
    "            neighbors.append(label)\n",
    "            \n",
    "        # find the majority class\n",
    "        predictions = []\n",
    "        for neighbor in neighbors:\n",
    "            majority = Counter(neighbor).most_common()\n",
    "            # Counter example : [('class_1',3),('class_2',2)]\n",
    "            predictions.append(majority[0][0])\n",
    "        \n",
    "        return predictions"
   ]
  },
  {
   "cell_type": "code",
   "execution_count": 22,
   "id": "modular-tracker",
   "metadata": {},
   "outputs": [],
   "source": [
    "from sklearn import datasets\n",
    "from sklearn.model_selection import train_test_split\n",
    "from sklearn import metrics\n",
    "from sklearn import preprocessing"
   ]
  },
  {
   "cell_type": "code",
   "execution_count": 23,
   "id": "ambient-complaint",
   "metadata": {},
   "outputs": [],
   "source": [
    "wine = datasets.load_wine()\n",
    "X_train, X_test, y_train, y_test = train_test_split(wine.data, wine.target, test_size=0.3)\n",
    "\n",
    "# normalize x\n",
    "scaler = preprocessing.StandardScaler().fit(X_train)\n",
    "X_train = scaler.transform(X_train)\n",
    "X_test = scaler.transform(X_test)"
   ]
  },
  {
   "cell_type": "code",
   "execution_count": 25,
   "id": "unusual-tanzania",
   "metadata": {},
   "outputs": [
    {
     "name": "stdout",
     "output_type": "stream",
     "text": [
      "Train Accuracy: 1.0\n",
      "Test Accuracy: 0.9444444444444444\n"
     ]
    }
   ],
   "source": [
    "# K = 1\n",
    "knn = KNearestNeighbor(k = 1)\n",
    "knn.fit(X_train,y_train)\n",
    "\n",
    "y_train_predict = knn.predict(X_train)\n",
    "y_test_predict = knn.predict(X_test)\n",
    "\n",
    "print(\"Train Accuracy:\",metrics.accuracy_score(y_train, y_train_predict))\n",
    "print(\"Test Accuracy:\",metrics.accuracy_score(y_test, y_test_predict))"
   ]
  }
 ],
 "metadata": {
  "kernelspec": {
   "display_name": "Python 3",
   "language": "python",
   "name": "python3"
  },
  "language_info": {
   "codemirror_mode": {
    "name": "ipython",
    "version": 3
   },
   "file_extension": ".py",
   "mimetype": "text/x-python",
   "name": "python",
   "nbconvert_exporter": "python",
   "pygments_lexer": "ipython3",
   "version": "3.8.5"
  }
 },
 "nbformat": 4,
 "nbformat_minor": 5
}
